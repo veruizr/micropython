{
  "nbformat": 4,
  "nbformat_minor": 0,
  "metadata": {
    "colab": {
      "provenance": [],
      "authorship_tag": "ABX9TyOEiHGapWnPHvBkwyAra5w0",
      "include_colab_link": true
    },
    "kernelspec": {
      "name": "python3",
      "display_name": "Python 3"
    },
    "language_info": {
      "name": "python"
    }
  },
  "cells": [
    {
      "cell_type": "markdown",
      "metadata": {
        "id": "view-in-github",
        "colab_type": "text"
      },
      "source": [
        "<a href=\"https://colab.research.google.com/github/veruizr/micropython/blob/main/Grua_abierta_red_neuronal_para_micropython.ipynb\" target=\"_parent\"><img src=\"https://colab.research.google.com/assets/colab-badge.svg\" alt=\"Open In Colab\"/></a>"
      ]
    },
    {
      "cell_type": "markdown",
      "source": [
        "## Cargar librerías\n",
        "pandas, numpy, escaladores,y redeses neuronales con Pytorch"
      ],
      "metadata": {
        "id": "xjlMaP6cwKpL"
      }
    },
    {
      "cell_type": "code",
      "execution_count": 1,
      "metadata": {
        "id": "SIMwC9ckvPJv"
      },
      "outputs": [],
      "source": [
        "# Procesamiento de datos\n",
        "import pandas as pd\n",
        "import numpy as np\n",
        "\n",
        "# Preprocesamiento y partición de datos\n",
        "from sklearn.model_selection import train_test_split\n",
        "from sklearn.preprocessing import StandardScaler\n",
        "\n",
        "# PyTorch (red neuronal)\n",
        "import torch\n",
        "import torch.nn as nn\n",
        "import torch.optim as optim\n"
      ]
    },
    {
      "cell_type": "markdown",
      "source": [
        "###Cargar el dataset y adecuarlo para usarlo en el entrenamiento de la red neuronal"
      ],
      "metadata": {
        "id": "Oko3MOLZwRBL"
      }
    },
    {
      "cell_type": "code",
      "source": [
        "# Cargar el archivo CSV generado (ajusta la ruta según corresponda)\n",
        "df = pd.read_csv('dataset_grua_cinematica.csv')\n",
        "\n",
        "# Visualizar las primeras filas para comprobar la estructura\n",
        "print(df.head())\n",
        "\n",
        "# Seleccionar las columnas de entrada (X) y salida (y)\n",
        "# Entradas: posiciones x, y\n",
        "X = df[['x', 'y']].values\n",
        "\n",
        "# Salidas: ángulos theta1, theta2, theta3\n",
        "y = df[['theta1', 'theta2', 'theta3']].values\n"
      ],
      "metadata": {
        "colab": {
          "base_uri": "https://localhost:8080/"
        },
        "id": "eXty3RW5wRuC",
        "outputId": "6e2b07f1-0da1-4f2b-a7a9-4cf90d4f9604"
      },
      "execution_count": 2,
      "outputs": [
        {
          "output_type": "stream",
          "name": "stdout",
          "text": [
            "          x         y    theta1    theta2    theta3\n",
            "0  7.287561 -0.929594  0.349066 -0.523599 -1.570796\n",
            "1  7.519354 -0.943095  0.349066 -0.523599 -1.338086\n",
            "2  7.748012 -0.902776  0.349066 -0.523599 -1.105375\n",
            "3  7.961209 -0.810812  0.349066 -0.523599 -0.872665\n",
            "4  8.147450 -0.672160  0.349066 -0.523599 -0.639954\n"
          ]
        }
      ]
    },
    {
      "cell_type": "markdown",
      "source": [
        "## Definición de escaladores\n",
        "Se normalizan los datos para ser procesados y se dejan listos los escaladores, para ser utilizados posteriormente en micropython"
      ],
      "metadata": {
        "id": "Jd2vntjcwfvS"
      }
    },
    {
      "cell_type": "code",
      "source": [
        "# Normalizar entradas y salidas usando StandardScaler\n",
        "scaler_X = StandardScaler()\n",
        "scaler_y = StandardScaler()\n",
        "\n",
        "X_scaled = scaler_X.fit_transform(X)\n",
        "y_scaled = scaler_y.fit_transform(y)\n",
        "\n",
        "# Exportar parámetros de los escaladores (media y desviación estándar) para uso en MicroPython\n",
        "import json\n",
        "scaler_params = {\n",
        "    \"X_mean\": scaler_X.mean_.tolist(),\n",
        "    \"X_scale\": scaler_X.scale_.tolist(),\n",
        "    \"y_mean\": scaler_y.mean_.tolist(),\n",
        "    \"y_scale\": scaler_y.scale_.tolist()\n",
        "}\n",
        "with open(\"scaler_params.json\", \"w\") as f:\n",
        "    json.dump(scaler_params, f)\n",
        "\n",
        "# División en conjuntos de entrenamiento y prueba\n",
        "from sklearn.model_selection import train_test_split\n",
        "X_train, X_test, y_train, y_test = train_test_split(\n",
        "    X_scaled, y_scaled, test_size=0.2, random_state=42\n",
        ")\n",
        "\n",
        "# Conversión a tensores de PyTorch\n",
        "import torch\n",
        "X_train = torch.tensor(X_train, dtype=torch.float32)\n",
        "y_train = torch.tensor(y_train, dtype=torch.float32)\n",
        "X_test = torch.tensor(X_test, dtype=torch.float32)\n",
        "y_test = torch.tensor(y_test, dtype=torch.float32)\n"
      ],
      "metadata": {
        "id": "VW3TTCUgwgwo"
      },
      "execution_count": 3,
      "outputs": []
    },
    {
      "cell_type": "markdown",
      "source": [
        "##Definición de la red neuronal usando Pytorch"
      ],
      "metadata": {
        "id": "Q7RAiuHvyWNg"
      }
    },
    {
      "cell_type": "code",
      "source": [
        "import torch.nn as nn\n",
        "\n",
        "class Grua(nn.Module):\n",
        "    def __init__(self):\n",
        "        super(Grua, self).__init__()\n",
        "        self.layers = nn.Sequential(\n",
        "            nn.Linear(2, 64),   # Capa oculta 1: 64 neuronas\n",
        "            nn.ReLU(),\n",
        "            nn.Linear(64, 64),  # Capa oculta 2: 64 neuronas\n",
        "            nn.ReLU(),\n",
        "            nn.Linear(64, 3)    # Salida: 3 neuronas (ángulos)\n",
        "        )\n",
        "\n",
        "    def forward(self, x):\n",
        "        return self.layers(x)\n",
        "\n",
        "model = Grua()\n"
      ],
      "metadata": {
        "id": "dWAU_8V0yWsw"
      },
      "execution_count": 4,
      "outputs": []
    },
    {
      "cell_type": "markdown",
      "source": [
        "## Entrenamiento de la red neuronal\n"
      ],
      "metadata": {
        "id": "lnOKOc3Iy1o6"
      }
    },
    {
      "cell_type": "code",
      "source": [
        "import torch.optim as optim\n",
        "import matplotlib.pyplot as plt\n",
        "\n",
        "# Definir función de pérdida y optimizador\n",
        "criterion = nn.MSELoss()\n",
        "optimizer = optim.Adam(model.parameters(), lr=0.001)\n",
        "\n",
        "# Listas para almacenar el historial de pérdida\n",
        "train_losses = []\n",
        "val_losses = []\n",
        "\n",
        "epochs = 500\n",
        "for epoch in range(epochs):\n",
        "    model.train()\n",
        "    optimizer.zero_grad()\n",
        "    outputs = model(X_train)\n",
        "    loss = criterion(outputs, y_train)\n",
        "    loss.backward()\n",
        "    optimizer.step()\n",
        "    train_losses.append(loss.item())\n",
        "\n",
        "    # Evaluar en el conjunto de prueba/validación\n",
        "    model.eval()\n",
        "    with torch.no_grad():\n",
        "        val_pred = model(X_test)\n",
        "        val_loss = criterion(val_pred, y_test)\n",
        "        val_losses.append(val_loss.item())\n",
        "\n",
        "    if epoch % 50 == 0:\n",
        "        print(f'Epoch {epoch} | Train Loss: {loss.item():.6f} | Val Loss: {val_loss.item():.6f}')\n",
        "\n",
        "# Graficar las pérdidas\n",
        "plt.figure(figsize=(8,5))\n",
        "plt.plot(train_losses, label='Pérdida entrenamiento')\n",
        "plt.plot(val_losses, label='Pérdida validación')\n",
        "plt.xlabel('Época')\n",
        "plt.ylabel('Pérdida (MSE)')\n",
        "plt.title('Curvas de pérdida durante el entrenamiento')\n",
        "plt.legend()\n",
        "plt.grid(True)\n",
        "plt.show()\n",
        "\n",
        "# Evaluación final en el conjunto de prueba\n",
        "print(f\"\\nTest Loss final: {val_losses[-1]:.6f}\")\n",
        "\n",
        "# Guardar el modelo entrenado en formato PyTorch por si quieres seguir experimentando en PC\n",
        "torch.save(model.state_dict(), 'Grua.pth')\n"
      ],
      "metadata": {
        "colab": {
          "base_uri": "https://localhost:8080/",
          "height": 709
        },
        "id": "OhkM2Iu-6IoI",
        "outputId": "1a3a7084-6a2a-43fd-a434-8b16e33c90ba"
      },
      "execution_count": 5,
      "outputs": [
        {
          "output_type": "stream",
          "name": "stdout",
          "text": [
            "Epoch 0 | Train Loss: 1.038229 | Val Loss: 1.021807\n",
            "Epoch 50 | Train Loss: 0.603189 | Val Loss: 0.648696\n",
            "Epoch 100 | Train Loss: 0.488266 | Val Loss: 0.534143\n",
            "Epoch 150 | Train Loss: 0.443504 | Val Loss: 0.506539\n",
            "Epoch 200 | Train Loss: 0.423008 | Val Loss: 0.480930\n",
            "Epoch 250 | Train Loss: 0.410027 | Val Loss: 0.463334\n",
            "Epoch 300 | Train Loss: 0.404311 | Val Loss: 0.456045\n",
            "Epoch 350 | Train Loss: 0.401526 | Val Loss: 0.455687\n",
            "Epoch 400 | Train Loss: 0.399739 | Val Loss: 0.456259\n",
            "Epoch 450 | Train Loss: 0.398305 | Val Loss: 0.457410\n"
          ]
        },
        {
          "output_type": "display_data",
          "data": {
            "text/plain": [
              "<Figure size 800x500 with 1 Axes>"
            ],
            "image/png": "[encoded data removed]"
          },
          "metadata": {}
        },
        {
          "output_type": "stream",
          "name": "stdout",
          "text": [
            "\n",
            "Test Loss final: 0.458370\n"
          ]
        }
      ]
    },
    {
      "cell_type": "markdown",
      "source": [
        "## Exportación de pesos y sesgos en formato para lectura en micropython"
      ],
      "metadata": {
        "id": "9y2X_OKE0Mcy"
      }
    },
    {
      "cell_type": "code",
      "source": [
        "import json\n",
        "\n",
        "# Acceder a los parámetros del modelo\n",
        "state_dict = model.state_dict()\n",
        "\n",
        "# Extraer y convertir a listas los pesos y sesgos de cada capa\n",
        "weights_biases = {\n",
        "    \"layer1_weight\": state_dict['layers.0.weight'].cpu().numpy().tolist(),  # Input -> Capa oculta 1\n",
        "    \"layer1_bias\":   state_dict['layers.0.bias'].cpu().numpy().tolist(),\n",
        "    \"layer2_weight\": state_dict['layers.2.weight'].cpu().numpy().tolist(),  # Oculta 1 -> Oculta 2\n",
        "    \"layer2_bias\":   state_dict['layers.2.bias'].cpu().numpy().tolist(),\n",
        "    \"layer3_weight\": state_dict['layers.4.weight'].cpu().numpy().tolist(),  # Oculta 2 -> Salida\n",
        "    \"layer3_bias\":   state_dict['layers.4.bias'].cpu().numpy().tolist(),\n",
        "}\n",
        "\n",
        "# Guardar como archivo JSON listo para usar en MicroPython\n",
        "with open('grua_weights.json', 'w') as f:\n",
        "    json.dump(weights_biases, f)\n"
      ],
      "metadata": {
        "id": "dtaCS2yv0UsI"
      },
      "execution_count": 6,
      "outputs": []
    },
    {
      "cell_type": "markdown",
      "source": [
        "##Implementación en micropython para microcontroladores"
      ],
      "metadata": {
        "id": "POubSNGkBPK8"
      }
    },
    {
      "cell_type": "code",
      "source": [
        "import json # se utiliza para revisión usando python\n",
        "# se utiliza la libreria ujson para cargar los archivos en micropython\n",
        "\n",
        "# import ujson\n",
        "\n",
        "import math\n",
        "\n",
        "class NNPredictor:\n",
        "    def __init__(self, weights_path, scaler_path):\n",
        "        # Cargar pesos y sesgos\n",
        "        with open(weights_path, 'r') as f:\n",
        "           # self.weights = ujson.load(f)\n",
        "            self.weights = json.load(f)\n",
        "        # Cargar parámetros de escalado\n",
        "        with open(scaler_path, 'r') as f:\n",
        "            #self.scalers = ujson.load(f)\n",
        "            self.scalers = json.load(f)\n",
        "    def escalar_entrada(self, x, y):\n",
        "        mean = self.scalers['X_mean']\n",
        "        scale = self.scalers['X_scale']\n",
        "        return [(x - mean[0]) / scale[0], (y - mean[1]) / scale[1]]\n",
        "\n",
        "    def desescalar_salida(self, thetas):\n",
        "        mean = self.scalers['y_mean']\n",
        "        scale = self.scalers['y_scale']\n",
        "        return [thetas[i] * scale[i] + mean[i] for i in range(3)]\n",
        "\n",
        "    def relu(self, vec):\n",
        "        return [max(0, v) for v in vec]\n",
        "\n",
        "    def matvec(self, mat, vec):\n",
        "        return [\n",
        "            sum(mat[i][j] * vec[j] for j in range(len(vec)))\n",
        "            for i in range(len(mat))\n",
        "        ]\n",
        "\n",
        "    def predict(self, x, y):\n",
        "        # Paso 1: Escalar entrada\n",
        "        inp = self.escalar_entrada(x, y)\n",
        "\n",
        "        # Paso 2: Forward pass (propagación hacia adelante)\n",
        "        # Capa 1\n",
        "        out1 = self.matvec(self.weights['layer1_weight'], inp)\n",
        "        out1 = [out1[i] + self.weights['layer1_bias'][i] for i in range(64)]\n",
        "        out1 = self.relu(out1)\n",
        "\n",
        "        # Capa 2\n",
        "        out2 = self.matvec(self.weights['layer2_weight'], out1)\n",
        "        out2 = [out2[i] + self.weights['layer2_bias'][i] for i in range(64)]\n",
        "        out2 = self.relu(out2)\n",
        "\n",
        "        # Capa de salida\n",
        "        out3 = self.matvec(self.weights['layer3_weight'], out2)\n",
        "        out3 = [out3[i] + self.weights['layer3_bias'][i] for i in range(3)]\n",
        "\n",
        "        # Paso 3: Desescalar la salida\n",
        "        thetas = self.desescalar_salida(out3)\n",
        "        return thetas  # [theta1, theta2, theta3] en radianes\n",
        "\n",
        "    def predict_batch(self, trayectoria):\n",
        "        \"\"\"\n",
        "        trayectoria: lista de tuplas [(x, y), ...]\n",
        "        retorna: lista de listas [[theta1, theta2, theta3], ...]\n",
        "        \"\"\"\n",
        "        return [self.predict(x, y) for (x, y) in trayectoria]\n",
        "\n",
        "# --- USO DE EJEMPLO ---\n",
        "# Instanciar la clase y predecir para una trayectoria completa\n",
        "nn = NNPredictor('grua_weights.json', 'scaler_params.json')\n",
        "trayectoria = [(4.0, 5.0), (5.0, 6.0), (6.0, 7.0)]\n",
        "angulos = nn.predict_batch(trayectoria)\n",
        "\n",
        "for i, (punto, ang) in enumerate(zip(trayectoria, angulos)):\n",
        "    print(f\"Punto {i}: {punto} -> Ángulos (radianes): {ang}\")\n",
        "    print(f\"Punto {i}: {punto} -> Ángulos (grados): {[math.degrees(a) for a in ang]}\")\n",
        "\n"
      ],
      "metadata": {
        "colab": {
          "base_uri": "https://localhost:8080/"
        },
        "id": "_i1j7qOWBW0O",
        "outputId": "a2a1a7ff-27ee-4683-a548-f98a6d0fc51e"
      },
      "execution_count": 9,
      "outputs": [
        {
          "output_type": "stream",
          "name": "stdout",
          "text": [
            "Punto 0: (4.0, 5.0) -> Ángulos (radianes): [0.6562971530766373, 0.6238409624606824, -2.2790721575527]\n",
            "Punto 0: (4.0, 5.0) -> Ángulos (grados): [37.603056977742646, 35.74345423637633, -130.58121583354432]\n",
            "Punto 1: (5.0, 6.0) -> Ángulos (radianes): [0.6842417499464997, 0.4472614683040345, -1.2432525468059334]\n",
            "Punto 1: (5.0, 6.0) -> Ángulos (grados): [39.20416443858025, 25.62619447264542, -71.23312380087083]\n",
            "Punto 2: (6.0, 7.0) -> Ángulos (radianes): [0.9934709591730149, -0.24253552173398424, 0.852969739697434]\n",
            "Punto 2: (6.0, 7.0) -> Ángulos (grados): [56.92169302942747, -13.896261777360747, 48.871566137035394]\n"
          ]
        }
      ]
    }
  ]
}